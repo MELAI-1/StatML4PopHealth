{
 "cells": [
  {
   "cell_type": "markdown",
   "id": "g4H-0R5Qadg0",
   "metadata": {
    "id": "g4H-0R5Qadg0"
   },
   "source": [
    "<center>\n",
    "<img src=\"https://raw.githubusercontent.com/MLGlobalHealth/StatML4PopHealth/main/practicals/resources/logos/imperial.png\" width=\"250\" vspace=\"8\"/>\n",
    "<img src=\"https://raw.githubusercontent.com/MLGlobalHealth/StatML4PopHealth/main/practicals/resources/logos/mlgh.png\" width=\"220\" hspace=\"50\" vspace=\"5\"/>\n",
    "<img src=\"https://raw.githubusercontent.com/MLGlobalHealth/StatML4PopHealth/main/practicals/resources/logos/ammi.png\" width=\"190\"/>\n",
    "\n",
    "<font size=\"6\">Modern Statistics and Machine Learning\n",
    "for Population Health in Africa </font>\n",
    "\n",
    "<font size=\"4\">24th - 28th March 2025</font>\n",
    "\n",
    "</center>"
   ]
  },
  {
   "cell_type": "markdown",
   "id": "a53dcad8-862f-4138-9f72-10e5938fbef0",
   "metadata": {
    "id": "a53dcad8-862f-4138-9f72-10e5938fbef0"
   },
   "source": [
    "\n",
    "\n",
    "# The City of Cape Town Air Quality Monitoring (AQM) Network\n",
    "\n",
    "### Tristan Naidoo and Sahoko Ishida\n",
    "\n",
    "The AQM network consists of multiple stations equipped with sensors to measure both atmospheric pollutants and environmental parameters. Examples of atmospheric pollutants include particulate matter (e.g., PM2.5 and PM10) and sulfur dioxide (SO₂), while environmental parameters include humidity, wind speed, and wind direction. See this [review](https://www.sciencedirect.com/science/article/pii/S0301479721005727) by Singh et al. for more details on AQM networks.\n",
    "\n",
    "The Western Cape AQM network extends from St. Helena Bay to George. The first station, Molteno, was commissioned in 1992, and the network has since expanded to a total of 14 monitoring stations.\n",
    "\n",
    "In this notebook, we will focus on a subset of the City of Cape Town AQM stations, which form part of the broader network. An example of the network is shown below, with the stations of interest highlighted in green.\n",
    "<br>\n",
    "<center>\n",
    "<img src=\"https://raw.githubusercontent.com/MLGlobalHealth/StatML4PopHealth/refs/heads/main/practicals/day1/practical1/images/AQM_network.png\" width=353 height=500/>\n",
    "</center>\n",
    "\n",
    "([source](https://saaqis.environment.gov.za/Lekgotla%20Proceedings/2019/2019_2.2-overview-of-aqm_in-the-wc.pdf) - the original image was edited to highlight the stations we have data for)\n",
    "\n",
    "Our focus will be on wind speed, which plays a key role in the dispersion of atmospheric pollutants. Higher wind speeds are typically associated with lower pollutant concentrations, as they help disperse airborne contaminants. See for example, this [study](https://www.nature.com/articles/s41598-020-65391-5)  by Yang et al. that investigates factors influencing PM mass concentration in Shenyang, China and finds that wind speed was the most significant meteorological factor."
   ]
  },
  {
   "cell_type": "markdown",
   "id": "454a37ba-73b7-4ff9-b38c-29ee26805f7b",
   "metadata": {
    "id": "454a37ba-73b7-4ff9-b38c-29ee26805f7b"
   },
   "source": [
    "# Processing the raw data\n",
    "\n",
    "This notebook will aim to prepare hourly wind speed data to be modelled by a basic linear regression which you will cover in the next practical. In addition, it will help you dust off some of your python data wrangling skills which you'll need to process data given its tricky format!"
   ]
  },
  {
   "cell_type": "code",
   "execution_count": null,
   "id": "cc417f29-1221-48ce-b306-4408bfc22f3d",
   "metadata": {
    "id": "cc417f29-1221-48ce-b306-4408bfc22f3d"
   },
   "outputs": [],
   "source": [
    "import math\n",
    "import matplotlib.pyplot as plt\n",
    "import numpy as np\n",
    "import pandas as pd\n",
    "import seaborn as sns\n",
    "\n",
    "from pathlib import Path\n",
    "\n",
    "sns.set_theme(style=\"whitegrid\")"
   ]
  },
  {
   "cell_type": "markdown",
   "id": "7702c656-6093-4541-90a0-9b3bde249f54",
   "metadata": {
    "id": "7702c656-6093-4541-90a0-9b3bde249f54"
   },
   "source": [
    "We begin by reading the data, which was downloaded from the City of Cape Town Open Data portal (see [here](https://odp-cctegis.opendata.arcgis.com/documents/31ef242a23484e79bbb19d6b29203179/about) for more). Each year in kept in an individual .xlsx file. Each file has wind speed measured in metres per second (m/s) and wind direction measured in degrees (deg) across different AQM stations. In total we have data for 7 AQM stations.\n",
    "\n",
    "If you look at the raw data you will that the data format changes in 2017, so we read the individual csvs into two seperate lists, which we then combine."
   ]
  },
  {
   "cell_type": "code",
   "execution_count": null,
   "id": "UcS4uBu5aLk0",
   "metadata": {
    "id": "UcS4uBu5aLk0"
   },
   "outputs": [],
   "source": [
    "# Get input data\n",
    "import subprocess\n",
    "\n",
    "resource_urls= [f\"https://github.com/MLGlobalHealth/StatML4PopHealth/raw/refs/heads/main/practicals/day1/practical1/data/raw/Wind_direction_and_speed_{year}.xlsx\"\n",
    " for year in range(2014, 2021)]\n",
    "\n",
    "# Note this will overwrite existing files, remove -O if that is not desired\n",
    "# -L tells curl to follow redirrections\n",
    "for url in resource_urls:\n",
    "   subprocess.run([\"curl\", \"-LO\", url], check=True)"
   ]
  },
  {
   "cell_type": "code",
   "execution_count": null,
   "id": "ed4eac63-3f17-4605-af20-ce98be2a3760",
   "metadata": {
    "id": "ed4eac63-3f17-4605-af20-ce98be2a3760"
   },
   "outputs": [],
   "source": [
    "df_2014_2016_list = [pd.read_excel(f\"Wind_direction_and_speed_{year}.xlsx\", skiprows=2, header=[0, 1, 2]) for year in range(2014, 2017)]\n",
    "df_2017_2020_list = [pd.read_excel(f\"Wind_direction_and_speed_{year}.xlsx\", skiprows=2, header=[0, 1, 2])[:-8] for year in range(2017, 2021)]\n",
    "\n",
    "df_list = df_2014_2016_list + df_2017_2020_list"
   ]
  },
  {
   "cell_type": "markdown",
   "id": "aa573394-b5e0-4ac9-b2a6-7c00a04226cc",
   "metadata": {
    "id": "aa573394-b5e0-4ac9-b2a6-7c00a04226cc"
   },
   "source": [
    "Let's see what a single DataFrame looks like."
   ]
  },
  {
   "cell_type": "code",
   "execution_count": null,
   "id": "29b469e3-5ce6-4098-aa31-39eea9c12a86",
   "metadata": {
    "id": "29b469e3-5ce6-4098-aa31-39eea9c12a86"
   },
   "outputs": [],
   "source": [
    "example_df = df_list[0]\n",
    "example_df.head()"
   ]
  },
  {
   "cell_type": "markdown",
   "id": "20e2f859-32be-41c0-9d32-a6c044df604e",
   "metadata": {
    "id": "20e2f859-32be-41c0-9d32-a6c044df604e"
   },
   "source": [
    "As mentioned, the data has a tricky format. We'll first try to process a single DataFrame before we tackle our list.\n",
    "\n",
    "The DataFrame has a three-level column index. Let's clean this up a bit"
   ]
  },
  {
   "cell_type": "code",
   "execution_count": null,
   "id": "482c64f2-54f9-46b5-996c-33142b494d61",
   "metadata": {
    "id": "482c64f2-54f9-46b5-996c-33142b494d61"
   },
   "outputs": [],
   "source": [
    "# Clears the Unnamed column names\n",
    "example_df = example_df.rename(columns={example_df.columns[0][0]: \"timestamp\",\n",
    "                                        example_df.columns[0][1]:\"\",\n",
    "                                        example_df.columns[0][2]:\"\"})\n",
    "\n",
    "# Labels each level of the index\n",
    "example_df.columns.names = [\"location\", \"parameter\", \"unit\"]\n",
    "\n",
    "example_df.head()"
   ]
  },
  {
   "cell_type": "markdown",
   "id": "189c5df8-5704-4399-a28c-291536d0bc6f",
   "metadata": {
    "id": "189c5df8-5704-4399-a28c-291536d0bc6f"
   },
   "source": [
    "Now, let's convert this data into long format."
   ]
  },
  {
   "cell_type": "code",
   "execution_count": null,
   "id": "10011ed6-5296-49ad-a61f-6b0cce80862c",
   "metadata": {
    "id": "10011ed6-5296-49ad-a61f-6b0cce80862c"
   },
   "outputs": [],
   "source": [
    "# Convert the data to a long format and keep the first column as the ID variable\n",
    "example_df_long = example_df.melt(id_vars=[(\"timestamp\", \"\", \"\")], value_name=\"value\")\n",
    "example_df_long = example_df_long.rename(columns={example_df_long.columns[0]: \"timestamp\"})\n",
    "\n",
    "example_df_long.head()"
   ]
  },
  {
   "cell_type": "markdown",
   "id": "67340120-9d9a-4f21-8c84-fc5ac318ee45",
   "metadata": {
    "id": "67340120-9d9a-4f21-8c84-fc5ac318ee45"
   },
   "source": [
    "Finally, let's pivot the `parameter` column into two separate columns."
   ]
  },
  {
   "cell_type": "code",
   "execution_count": null,
   "id": "b2df1edd-4b62-4c94-9021-3c8a71f76c64",
   "metadata": {
    "id": "b2df1edd-4b62-4c94-9021-3c8a71f76c64"
   },
   "outputs": [],
   "source": [
    "example_df_wide = example_df_long.pivot(index=[\"timestamp\", \"location\"], columns=\"parameter\", values=\"value\").reset_index()\n",
    "example_df_wide.head()"
   ]
  },
  {
   "cell_type": "markdown",
   "id": "43977453-e9c4-458a-97d0-e2b358bf5da4",
   "metadata": {
    "id": "43977453-e9c4-458a-97d0-e2b358bf5da4"
   },
   "source": [
    "The data looks much better! Instead of repeating the steps for each DataFrame in the list, let's create a function which combines the previous steps."
   ]
  },
  {
   "cell_type": "code",
   "execution_count": null,
   "id": "7b6ef5f6-743f-4ed9-9199-7f0452c657ec",
   "metadata": {
    "id": "7b6ef5f6-743f-4ed9-9199-7f0452c657ec"
   },
   "outputs": [],
   "source": [
    "def process_df(df):\n",
    "    df = df.rename(columns={df.columns[0][0]: \"timestamp\", df.columns[0][1]:\"\", df.columns[0][2]:\"\"})\n",
    "    df.columns.names = [\"location\", \"parameter\", \"unit\"]\n",
    "\n",
    "    df_long = df.melt(id_vars=[(\"timestamp\", \"\", \"\")], value_name=\"value\")\n",
    "    df_long = df_long.rename(columns={df_long.columns[0]: \"timestamp\"})\n",
    "\n",
    "    df_wide = df_long.pivot(index=[\"timestamp\", \"location\"], columns=\"parameter\", values=\"value\").reset_index()\n",
    "\n",
    "    return df_wide"
   ]
  },
  {
   "cell_type": "markdown",
   "id": "889d5e68-ce5f-4d85-b898-ccc199a28b40",
   "metadata": {
    "id": "889d5e68-ce5f-4d85-b898-ccc199a28b40"
   },
   "source": [
    "We can use this helper function to efficiently process each DataFrame in our list and then we can combine the result into a single DataFrame."
   ]
  },
  {
   "cell_type": "code",
   "execution_count": null,
   "id": "aff93dce-80ad-4d3a-ad97-3feb0391dd07",
   "metadata": {
    "id": "aff93dce-80ad-4d3a-ad97-3feb0391dd07"
   },
   "outputs": [],
   "source": [
    "processed_df_list = [process_df(df) for df in df_list]"
   ]
  },
  {
   "cell_type": "code",
   "execution_count": null,
   "id": "50db8ae5-ce2c-40f2-bf3e-dede60e4e21c",
   "metadata": {
    "id": "50db8ae5-ce2c-40f2-bf3e-dede60e4e21c"
   },
   "outputs": [],
   "source": [
    "complete_wind_df = pd.concat(processed_df_list)"
   ]
  },
  {
   "cell_type": "code",
   "execution_count": null,
   "id": "0f0c1a3a-ab05-447c-b2e1-f0e305bc77cc",
   "metadata": {
    "id": "0f0c1a3a-ab05-447c-b2e1-f0e305bc77cc"
   },
   "outputs": [],
   "source": [
    "# The shape of the processed data\n",
    "complete_wind_df.shape"
   ]
  },
  {
   "cell_type": "code",
   "execution_count": null,
   "id": "53a581ae-c879-4ac2-985c-087f4fca7f4e",
   "metadata": {
    "id": "53a581ae-c879-4ac2-985c-087f4fca7f4e"
   },
   "outputs": [],
   "source": [
    "complete_wind_df.head()"
   ]
  },
  {
   "cell_type": "markdown",
   "id": "59d23bb3-5783-461e-b93b-f86a750cbb34",
   "metadata": {
    "id": "59d23bb3-5783-461e-b93b-f86a750cbb34"
   },
   "source": [
    "# Cleaning the processed data"
   ]
  },
  {
   "cell_type": "markdown",
   "id": "1b3fe156-790b-4ad3-9d49-f14b3b722309",
   "metadata": {
    "id": "1b3fe156-790b-4ad3-9d49-f14b3b722309"
   },
   "source": [
    "## Wind speed and wind direction"
   ]
  },
  {
   "cell_type": "markdown",
   "id": "57682b12-eae6-4b9c-85bf-8e2599609a63",
   "metadata": {
    "id": "57682b12-eae6-4b9c-85bf-8e2599609a63"
   },
   "source": [
    "Looking at the wind speed and wind direction, you’ll notice that missing values have been coded as the string 'NoData'. This will be difficult to work with. Let’s check if there are any other strings and see how many there are in each of these columns."
   ]
  },
  {
   "cell_type": "code",
   "execution_count": null,
   "id": "0997b94d-2ffa-421f-8261-ed4d0ec7a7ce",
   "metadata": {
    "id": "0997b94d-2ffa-421f-8261-ed4d0ec7a7ce"
   },
   "outputs": [],
   "source": [
    "# Rename the columns so that that they're each to work with\n",
    "complete_wind_df.rename(columns={\"Wind Dir V\": \"wind_dir\", \"Wind Speed V\": \"wind_speed\"}, inplace=True)"
   ]
  },
  {
   "cell_type": "code",
   "execution_count": null,
   "id": "3fccae0b-745c-4880-8a06-13bd32475637",
   "metadata": {
    "id": "3fccae0b-745c-4880-8a06-13bd32475637"
   },
   "outputs": [],
   "source": [
    "# Checks if the value in each column is a string\n",
    "is_string_filter_df = complete_wind_df[[\"wind_dir\", \"wind_speed\"]].map(lambda x: isinstance(x, str))"
   ]
  },
  {
   "cell_type": "code",
   "execution_count": null,
   "id": "2bac46f3-22de-4361-a7c9-cf08237a8a33",
   "metadata": {
    "id": "2bac46f3-22de-4361-a7c9-cf08237a8a33"
   },
   "outputs": [],
   "source": [
    "# String value data frames for each variable\n",
    "wind_dir_string_df = complete_wind_df[\"wind_dir\"][is_string_filter_df[\"wind_dir\"]]\n",
    "wind_speed_string_df = complete_wind_df[\"wind_speed\"][is_string_filter_df[\"wind_speed\"]]"
   ]
  },
  {
   "cell_type": "code",
   "execution_count": null,
   "id": "22f53907-4a17-4c9d-a169-3977885c8be8",
   "metadata": {
    "id": "22f53907-4a17-4c9d-a169-3977885c8be8"
   },
   "outputs": [],
   "source": [
    "# Missing wind direction value counts\n",
    "wind_dir_string_df.value_counts()"
   ]
  },
  {
   "cell_type": "code",
   "execution_count": null,
   "id": "bb73d79c-6d0b-4481-96fd-e5e25c074b6d",
   "metadata": {
    "id": "bb73d79c-6d0b-4481-96fd-e5e25c074b6d"
   },
   "outputs": [],
   "source": [
    "# Missing wind speed value counts\n",
    "wind_speed_string_df.value_counts()"
   ]
  },
  {
   "cell_type": "code",
   "execution_count": null,
   "id": "80c86e4d-0d8c-4d48-80c9-e28d9ec9f331",
   "metadata": {
    "id": "80c86e4d-0d8c-4d48-80c9-e28d9ec9f331"
   },
   "outputs": [],
   "source": [
    "total_missing = sum(is_string_filter_df[\"wind_dir\"] | is_string_filter_df[\"wind_speed\"])\n",
    "\n",
    "print(f\"In total there are {len(wind_speed_string_df)} missing wind speed values \"\n",
    "      f\"and {len(wind_dir_string_df)} missing wind direction values.\"\n",
    "      f\"\\nThe combined number of missing values is {total_missing}\")"
   ]
  },
  {
   "cell_type": "markdown",
   "id": "b73788c0-ae60-478f-b966-2b9e11b976fd",
   "metadata": {
    "id": "b73788c0-ae60-478f-b966-2b9e11b976fd"
   },
   "source": [
    "To work with these columns it would be better if they were numeric. To do this lets replace the string values with `NA` values."
   ]
  },
  {
   "cell_type": "code",
   "execution_count": null,
   "id": "d16099a1-8857-4f84-9409-ecc4798120bd",
   "metadata": {
    "id": "d16099a1-8857-4f84-9409-ecc4798120bd"
   },
   "outputs": [],
   "source": [
    "unique_strings = set()\n",
    "unique_strings.update(wind_dir_string_df.unique())\n",
    "unique_strings.update(wind_speed_string_df.unique())"
   ]
  },
  {
   "cell_type": "code",
   "execution_count": null,
   "id": "a45b3360-8076-465a-b409-0d80f50678e4",
   "metadata": {
    "id": "a45b3360-8076-465a-b409-0d80f50678e4"
   },
   "outputs": [],
   "source": [
    "unique_strings"
   ]
  },
  {
   "cell_type": "code",
   "execution_count": null,
   "id": "f65bf75b-b3c3-4cd7-b52d-9cc9d68ac184",
   "metadata": {
    "id": "f65bf75b-b3c3-4cd7-b52d-9cc9d68ac184"
   },
   "outputs": [],
   "source": [
    "# np.nan keeps column as numeric when plotting (confirm)\n",
    "complete_wind_df = complete_wind_df.infer_objects(copy=False).replace(unique_strings, np.nan)"
   ]
  },
  {
   "cell_type": "code",
   "execution_count": null,
   "id": "6ced2cb7-ef1d-4aff-9574-178829cab1d2",
   "metadata": {
    "id": "6ced2cb7-ef1d-4aff-9574-178829cab1d2"
   },
   "outputs": [],
   "source": [
    "# The number of na values should correspond to our earlier string counts\n",
    "complete_wind_df.isna().apply(sum)"
   ]
  },
  {
   "cell_type": "code",
   "execution_count": null,
   "id": "615b9a93-1384-435a-b49b-072e2c74b1d1",
   "metadata": {
    "id": "615b9a93-1384-435a-b49b-072e2c74b1d1"
   },
   "outputs": [],
   "source": [
    "# As an additional check, lets confirm that if a value isn't a float then it's na\n",
    "complete_wind_df[[\"wind_dir\", \"wind_speed\"]].map(lambda x: isinstance(x, (int, float)) or  pd.isna(x)).all()"
   ]
  },
  {
   "cell_type": "markdown",
   "id": "2684731c-d523-4ad5-91c2-01d21b3a0d1a",
   "metadata": {
    "id": "2684731c-d523-4ad5-91c2-01d21b3a0d1a"
   },
   "source": [
    "## Location\n",
    "\n",
    "Since we're loading the data over multiple years, it's possible that some of the station names may have updated."
   ]
  },
  {
   "cell_type": "code",
   "execution_count": null,
   "id": "8b958cac-c8e6-4b11-a32f-4db1678cc4b7",
   "metadata": {
    "id": "8b958cac-c8e6-4b11-a32f-4db1678cc4b7"
   },
   "outputs": [],
   "source": [
    "complete_wind_df.location.unique()"
   ]
  },
  {
   "cell_type": "markdown",
   "id": "5c20db95-7126-45da-9349-8e7c7a382ab2",
   "metadata": {
    "id": "5c20db95-7126-45da-9349-8e7c7a382ab2"
   },
   "source": [
    "Indeed, it looks like this is the case for Somerset West, lets update the strings to match."
   ]
  },
  {
   "cell_type": "code",
   "execution_count": null,
   "id": "e5bf4642-b07d-4da9-9b5b-5b584107f107",
   "metadata": {
    "id": "e5bf4642-b07d-4da9-9b5b-5b584107f107"
   },
   "outputs": [],
   "source": [
    "complete_wind_df.loc[complete_wind_df.location==\"Somerset-West AQM Site\", \"location\"]  = \"Somerset West AQM Site\""
   ]
  },
  {
   "cell_type": "code",
   "execution_count": null,
   "id": "9f9e9a93-fddd-4fb0-a529-0a846c544b75",
   "metadata": {
    "id": "9f9e9a93-fddd-4fb0-a529-0a846c544b75"
   },
   "outputs": [],
   "source": [
    "complete_wind_df.location.unique()"
   ]
  },
  {
   "cell_type": "markdown",
   "id": "f7347f7c-a5fb-472e-9f90-1e95d70ee0d0",
   "metadata": {
    "id": "f7347f7c-a5fb-472e-9f90-1e95d70ee0d0"
   },
   "source": [
    "Much better! Now we have a unique set of locations."
   ]
  },
  {
   "cell_type": "markdown",
   "id": "ab7eb9e1-23a4-4215-97c3-1492b3d0f470",
   "metadata": {
    "id": "ab7eb9e1-23a4-4215-97c3-1492b3d0f470"
   },
   "source": [
    "## Creating datetime features\n",
    "\n",
    "Now that the data we have is cleaned, we can create some time-related features."
   ]
  },
  {
   "cell_type": "code",
   "execution_count": null,
   "id": "e178d3f0-0e3b-4a81-b1d6-742579b8734a",
   "metadata": {
    "id": "e178d3f0-0e3b-4a81-b1d6-742579b8734a"
   },
   "outputs": [],
   "source": [
    "# Covert the timestamp to a datetime object to make creating features easier\n",
    "complete_wind_df[\"timestamp\"] = pd.to_datetime(complete_wind_df[\"timestamp\"], format=\"%d/%m/%Y %H:%M\")"
   ]
  },
  {
   "cell_type": "code",
   "execution_count": null,
   "id": "c9e5bc61-4ba1-48b0-a477-8322878c62f6",
   "metadata": {
    "id": "c9e5bc61-4ba1-48b0-a477-8322878c62f6"
   },
   "outputs": [],
   "source": [
    "complete_wind_df = complete_wind_df.sort_values(\"timestamp\")"
   ]
  },
  {
   "cell_type": "code",
   "execution_count": null,
   "id": "b941ce8f-0acc-478d-8743-5d2d87f80f37",
   "metadata": {
    "id": "b941ce8f-0acc-478d-8743-5d2d87f80f37"
   },
   "outputs": [],
   "source": [
    "complete_wind_df['date'] = complete_wind_df['timestamp'].dt.date\n",
    "\n",
    "complete_wind_df['hour'] = complete_wind_df['timestamp'].dt.hour\n",
    "complete_wind_df['dow'] = complete_wind_df['timestamp'].dt.strftime('%w')\n",
    "complete_wind_df['dow_hour'] = complete_wind_df['timestamp'].dt.strftime('%w-%H')\n",
    "\n",
    "complete_wind_df['month'] = complete_wind_df['timestamp'].dt.month\n",
    "complete_wind_df['year'] = complete_wind_df['timestamp'].dt.year\n",
    "complete_wind_df['month_year'] = complete_wind_df['timestamp'].dt.strftime('%Y-%m')"
   ]
  },
  {
   "cell_type": "markdown",
   "id": "s8GEQ5rdlOH0",
   "metadata": {
    "id": "s8GEQ5rdlOH0"
   },
   "source": [
    "Lets save full dataset with cleaned features. To do this, lets first mount our google drive and specify the output folder."
   ]
  },
  {
   "cell_type": "code",
   "execution_count": null,
   "id": "-E5pHpB3lLP3",
   "metadata": {
    "id": "-E5pHpB3lLP3"
   },
   "outputs": [],
   "source": [
    "# specify ouput location\n",
    "from google.colab import drive\n",
    "drive.mount('/content/drive')\n",
    "\n",
    "# Adjust this as required - this is where your output will be stored.\n",
    "output_dir = Path(*[\"drive\", \"MyDrive\", \"StatML4PopHealth\", \"practical1\"])\n",
    "output_dir.mkdir(parents=True, exist_ok=True)"
   ]
  },
  {
   "cell_type": "code",
   "execution_count": null,
   "id": "fec97ab9-a72a-491d-995d-612a9e129fef",
   "metadata": {
    "id": "fec97ab9-a72a-491d-995d-612a9e129fef"
   },
   "outputs": [],
   "source": [
    "complete_wind_df.to_csv(output_dir.joinpath(\n",
    "    \"cleaned_wind_data_date_features.csv\"), index=False)"
   ]
  },
  {
   "cell_type": "markdown",
   "id": "2fb6bbe2-0827-4089-8053-00c72984cab3",
   "metadata": {
    "id": "2fb6bbe2-0827-4089-8053-00c72984cab3"
   },
   "source": [
    "If you would like to read in the data you need to recovert the timestamp to a datetime object."
   ]
  },
  {
   "cell_type": "code",
   "execution_count": null,
   "id": "9da22f6a-f641-4743-ace4-2964ef4272ef",
   "metadata": {
    "id": "9da22f6a-f641-4743-ace4-2964ef4272ef"
   },
   "outputs": [],
   "source": [
    "# For reading in the data\n",
    "complete_wind_df = pd.read_csv(output_dir.joinpath(\n",
    "    \"cleaned_wind_data_date_features.csv\"))\n",
    "complete_wind_df.timestamp =  pd.to_datetime(complete_wind_df[\"timestamp\"], format=\"%Y-%m-%d %H:%M:%S\")"
   ]
  },
  {
   "cell_type": "markdown",
   "id": "edb50824-0690-4e62-81dc-eeb680f230c0",
   "metadata": {
    "id": "edb50824-0690-4e62-81dc-eeb680f230c0"
   },
   "source": [
    "# Plotting the data\n",
    "\n",
    "To assist with looking at the data, we've created a simple helper function above that makes plotting the time variables easier.\n",
    "\n",
    "Quick plot options: `date`, `hour`, `dow`, `dow_hour`, `month`, `month_year`, `year`.\n",
    "\n",
    "If you have time, unrelated to selecting the year to model, feel free to explore the different options.\n",
    "<br>Can you see any patterns in wind speed when the plot options are `hour` and `month`?"
   ]
  },
  {
   "cell_type": "code",
   "execution_count": null,
   "id": "a8bde918-ce98-41cc-80a1-23f12572e4a3",
   "metadata": {
    "id": "a8bde918-ce98-41cc-80a1-23f12572e4a3"
   },
   "outputs": [],
   "source": [
    "def quick_plot(df, x, y, group_var=\"location\", ncols=2, col_width=5):\n",
    "    grouped = df.groupby(group_var)\n",
    "    nrows = math.ceil(len(grouped)/ncols)\n",
    "    n_unreq_axes = (nrows*ncols) - len(grouped)\n",
    "\n",
    "    fig, axes = plt.subplots(nrows=nrows, ncols=ncols, figsize=(col_width*ncols, nrows*4))\n",
    "    fig.suptitle(f\"Wind speed (m/s) at {group_var}:\", fontsize=15)\n",
    "    for (group_name, group), ax in zip(grouped, axes.flatten()):\n",
    "        group.plot(x=x,y=y,ax=ax)\n",
    "        ax.set_title(f\"{group_name}\\n n={group.shape[0]}\")\n",
    "        ax.legend().set_visible(False)\n",
    "\n",
    "    for i in range(1, n_unreq_axes+1):\n",
    "        axes.flatten()[-i].axis('off')\n",
    "\n",
    "    plt.tight_layout()\n",
    "    plt.show()"
   ]
  },
  {
   "cell_type": "code",
   "execution_count": null,
   "id": "659b40cd-768c-4c65-9c24-4609b1ec5f02",
   "metadata": {
    "id": "659b40cd-768c-4c65-9c24-4609b1ec5f02"
   },
   "outputs": [],
   "source": [
    "group_var = \"location\"\n",
    "grouped_df_dict = {\"date\": complete_wind_df.groupby([\"date\", group_var])[\"wind_speed\"].mean().reset_index(),\n",
    "                   \"hour\": complete_wind_df.groupby([\"hour\", group_var])[\"wind_speed\"].mean().reset_index(),\n",
    "                   \"dow_hour\": complete_wind_df.groupby([\"dow_hour\", group_var])[\"wind_speed\"].mean().reset_index(),\n",
    "                   \"month\": complete_wind_df.groupby([\"month\", group_var])[\"wind_speed\"].mean().reset_index(),\n",
    "                   \"year\": complete_wind_df.groupby([\"year\", group_var])[\"wind_speed\"].mean().reset_index(),\n",
    "                   \"month_year\": complete_wind_df.groupby([\"month_year\", group_var])[\"wind_speed\"].mean().reset_index()}"
   ]
  },
  {
   "cell_type": "code",
   "execution_count": null,
   "id": "44f10f33-71db-4cef-990a-059e5ba65de5",
   "metadata": {
    "id": "44f10f33-71db-4cef-990a-059e5ba65de5"
   },
   "outputs": [],
   "source": [
    "quick_plot_var = \"year\""
   ]
  },
  {
   "cell_type": "code",
   "execution_count": null,
   "id": "f049fdeb-9857-4fb5-81ec-f5a3e1a98688",
   "metadata": {
    "id": "f049fdeb-9857-4fb5-81ec-f5a3e1a98688"
   },
   "outputs": [],
   "source": [
    "quick_plot(grouped_df_dict[quick_plot_var], quick_plot_var, \"wind_speed\" , group_var, ncols=4, col_width=4)"
   ]
  },
  {
   "cell_type": "markdown",
   "id": "20cdf0e7-5da5-41d2-bde7-b098bcd50b12",
   "metadata": {
    "id": "20cdf0e7-5da5-41d2-bde7-b098bcd50b12"
   },
   "source": [
    "# Extra: creating a modelling dataset for a single year"
   ]
  },
  {
   "cell_type": "markdown",
   "id": "78fade45-b0f8-4b81-a115-4c023342d54d",
   "metadata": {
    "id": "78fade45-b0f8-4b81-a115-4c023342d54d"
   },
   "source": [
    "In the modelling notebook we will look at the hourly windspeed recordings at a selected site ('Bothasig AQM Site'), between 1st January, 2020 and 21st January 2020. However which year should you select if you wanted to model the daily wind speed for a single year?\n",
    "\n",
    "Unfortunately, our dataset contains a lot of missing values, which you may have noticed when we replaced strings with `NA` values. Additionally, Khayelitsha, Somerset West, and Bellville only have data available from 2016 onwards. As a result, we'll focus on a single year and exclude 2014 and 2015 as candidates for our modeling."
   ]
  },
  {
   "cell_type": "code",
   "execution_count": null,
   "id": "89b1d85b-01be-48d6-b866-3c3d673ebe2c",
   "metadata": {
    "id": "89b1d85b-01be-48d6-b866-3c3d673ebe2c"
   },
   "outputs": [],
   "source": [
    "complete_wind_filtered_df = complete_wind_df[~(complete_wind_df[\"year\"].isin([2014, 2015]))]"
   ]
  },
  {
   "cell_type": "code",
   "execution_count": null,
   "id": "3512571d-766b-4a05-9381-43a2b7ac419b",
   "metadata": {
    "id": "3512571d-766b-4a05-9381-43a2b7ac419b"
   },
   "outputs": [],
   "source": [
    "missingness_year_df = (complete_wind_filtered_df.\n",
    "                       groupby([\"year\"])[\"wind_speed\"].\n",
    "                       apply(lambda x: round(x.isna().sum()/x.shape[0],2)).reset_index())"
   ]
  },
  {
   "cell_type": "code",
   "execution_count": null,
   "id": "6f365eb2-3792-4aa2-939b-8701ad0d0411",
   "metadata": {
    "id": "6f365eb2-3792-4aa2-939b-8701ad0d0411"
   },
   "outputs": [],
   "source": [
    "missingness_year_df.rename({\"wind_speed\": \"pers_missing\"}, axis=1)"
   ]
  },
  {
   "cell_type": "markdown",
   "id": "aa3160e0-bccb-4fb1-bfbe-598d689a8546",
   "metadata": {
    "id": "aa3160e0-bccb-4fb1-bfbe-598d689a8546"
   },
   "source": [
    "2017, 2019, and 2020 look like reasonable candidates. Let us take a closer look at each year."
   ]
  },
  {
   "cell_type": "code",
   "execution_count": null,
   "id": "f25d2e53-26f4-4d25-852d-5e1a2e4c6dbe",
   "metadata": {
    "id": "f25d2e53-26f4-4d25-852d-5e1a2e4c6dbe"
   },
   "outputs": [],
   "source": [
    "complete_wind_filtered_df = complete_wind_filtered_df[(complete_wind_filtered_df[\"year\"].isin([2017, 2019, 2020]))]"
   ]
  },
  {
   "cell_type": "code",
   "execution_count": null,
   "id": "6d08cd44-1203-409d-8040-9917b7b62c01",
   "metadata": {
    "id": "6d08cd44-1203-409d-8040-9917b7b62c01"
   },
   "outputs": [],
   "source": [
    "missingness_year_location_df = complete_wind_filtered_df[[\"year\", \"location\", \"timestamp\",\"wind_speed\"]].groupby([\"year\", \"location\"]).count()\n",
    "missingness_year_location_df[\"pers_missing\"] = round(1-missingness_year_location_df[\"wind_speed\"]/missingness_year_location_df[\"timestamp\"],2)"
   ]
  },
  {
   "cell_type": "code",
   "execution_count": null,
   "id": "ffc447a7-e9e1-46cd-80d1-dc5540735563",
   "metadata": {
    "id": "ffc447a7-e9e1-46cd-80d1-dc5540735563"
   },
   "outputs": [],
   "source": [
    "missingness_year_location_df[[\"pers_missing\"]]"
   ]
  },
  {
   "cell_type": "markdown",
   "id": "1a0da5a4-100d-43be-98f7-b5e8aa5c6383",
   "metadata": {
    "id": "1a0da5a4-100d-43be-98f7-b5e8aa5c6383"
   },
   "source": [
    "Looking at the table above, only two locations in 2019 and 2020 have more than 35% of their values missing. Let's plot the data to see which year looks better across the different locations.\n",
    "\n",
    "Based on the plots which plots which year do you think is best and why? Scroll down for our answer!\n",
    "<br> \n",
    "<br> \n",
    "<br> \n",
    "<br> \n",
    "<br> \n",
    "<br> \n",
    "<br> \n",
    "<br> \n",
    "<br> \n",
    "<br> \n",
    "<br> \n",
    "<br> \n",
    "<br> \n",
    "<br> \n",
    "<br> \n",
    "<br> \n",
    "<br> \n",
    "<br> \n",
    "<br>\n",
    "<br>\n",
    "<br>\n",
    "<br>\n",
    "<br>\n",
    "<br>\n",
    "Looking at the yearly plot, we notice a data error for Goodwood in 2020. Based on this, we have chosen 2019 as the year to model. However, feel free to challenge this if you think 2020 makes more sense - come chat with us and share your reasoning! :)\""
   ]
  }
 ],
 "metadata": {
  "colab": {
   "provenance": []
  },
  "kernelspec": {
   "display_name": "Python 3 (ipykernel)",
   "language": "python",
   "name": "python3"
  },
  "language_info": {
   "codemirror_mode": {
    "name": "ipython",
    "version": 3
   },
   "file_extension": ".py",
   "mimetype": "text/x-python",
   "name": "python",
   "nbconvert_exporter": "python",
   "pygments_lexer": "ipython3",
   "version": "3.11.7"
  }
 },
 "nbformat": 4,
 "nbformat_minor": 5
}
